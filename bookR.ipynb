{
 "cells": [
  {
   "cell_type": "markdown",
   "metadata": {},
   "source": [
    "# Pruebas básicas para book en R\n",
    "\n",
    "Estas son pruebas básicas para crear jupyter notebooks en R\n"
   ]
  },
  {
   "cell_type": "markdown",
   "metadata": {},
   "source": [
    "Aquí se hace una observación básica de la base de datos"
   ]
  },
  {
   "cell_type": "code",
   "execution_count": 15,
   "metadata": {
    "vscode": {
     "languageId": "r"
    }
   },
   "outputs": [
    {
     "name": "stderr",
     "output_type": "stream",
     "text": [
      "Parsed with column specification:\n",
      "cols(\n",
      "  am = col_double(),\n",
      "  y = col_double(),\n",
      "  ciiu3 = col_double(),\n",
      "  publicidad = col_double(),\n",
      "  ventas = col_double(),\n",
      "  hombres = col_double(),\n",
      "  mujeres = col_double(),\n",
      "  kw = col_double()\n",
      ")\n"
     ]
    },
    {
     "data": {
      "text/html": [
       "<table>\n",
       "<thead><tr><th scope=col>am</th><th scope=col>y</th><th scope=col>ciiu3</th><th scope=col>publicidad</th><th scope=col>ventas</th><th scope=col>hombres</th><th scope=col>mujeres</th><th scope=col>kw</th></tr></thead>\n",
       "<tbody>\n",
       "\t<tr><td>1        </td><td>1983     </td><td>311      </td><td>3788.6905</td><td>223934.53</td><td>39.39682 </td><td>19.841270</td><td>425238.8 </td></tr>\n",
       "\t<tr><td>2        </td><td>1983     </td><td>311      </td><td>5966.0000</td><td>249857.73</td><td>40.25843 </td><td>17.213484</td><td>503172.9 </td></tr>\n",
       "\t<tr><td>3        </td><td>1983     </td><td>311      </td><td>1842.0164</td><td>219366.26</td><td>46.10656 </td><td>25.213116</td><td>398617.2 </td></tr>\n",
       "\t<tr><td>4        </td><td>1983     </td><td>311      </td><td>1595.0952</td><td>248018.90</td><td>27.52381 </td><td>32.190475</td><td>243962.8 </td></tr>\n",
       "\t<tr><td>5        </td><td>1983     </td><td>311      </td><td>1800.4559</td><td>337150.60</td><td>49.19118 </td><td>11.926471</td><td>716940.8 </td></tr>\n",
       "\t<tr><td>6        </td><td>1983     </td><td>311      </td><td> 247.5758</td><td> 67608.76</td><td>13.34343 </td><td> 9.747475</td><td>262221.7 </td></tr>\n",
       "</tbody>\n",
       "</table>\n"
      ],
      "text/latex": [
       "\\begin{tabular}{r|llllllll}\n",
       " am & y & ciiu3 & publicidad & ventas & hombres & mujeres & kw\\\\\n",
       "\\hline\n",
       "\t 1         & 1983      & 311       & 3788.6905 & 223934.53 & 39.39682  & 19.841270 & 425238.8 \\\\\n",
       "\t 2         & 1983      & 311       & 5966.0000 & 249857.73 & 40.25843  & 17.213484 & 503172.9 \\\\\n",
       "\t 3         & 1983      & 311       & 1842.0164 & 219366.26 & 46.10656  & 25.213116 & 398617.2 \\\\\n",
       "\t 4         & 1983      & 311       & 1595.0952 & 248018.90 & 27.52381  & 32.190475 & 243962.8 \\\\\n",
       "\t 5         & 1983      & 311       & 1800.4559 & 337150.60 & 49.19118  & 11.926471 & 716940.8 \\\\\n",
       "\t 6         & 1983      & 311       &  247.5758 &  67608.76 & 13.34343  &  9.747475 & 262221.7 \\\\\n",
       "\\end{tabular}\n"
      ],
      "text/markdown": [
       "\n",
       "| am | y | ciiu3 | publicidad | ventas | hombres | mujeres | kw |\n",
       "|---|---|---|---|---|---|---|---|\n",
       "| 1         | 1983      | 311       | 3788.6905 | 223934.53 | 39.39682  | 19.841270 | 425238.8  |\n",
       "| 2         | 1983      | 311       | 5966.0000 | 249857.73 | 40.25843  | 17.213484 | 503172.9  |\n",
       "| 3         | 1983      | 311       | 1842.0164 | 219366.26 | 46.10656  | 25.213116 | 398617.2  |\n",
       "| 4         | 1983      | 311       | 1595.0952 | 248018.90 | 27.52381  | 32.190475 | 243962.8  |\n",
       "| 5         | 1983      | 311       | 1800.4559 | 337150.60 | 49.19118  | 11.926471 | 716940.8  |\n",
       "| 6         | 1983      | 311       |  247.5758 |  67608.76 | 13.34343  |  9.747475 | 262221.7  |\n",
       "\n"
      ],
      "text/plain": [
       "  am y    ciiu3 publicidad ventas    hombres  mujeres   kw      \n",
       "1 1  1983 311   3788.6905  223934.53 39.39682 19.841270 425238.8\n",
       "2 2  1983 311   5966.0000  249857.73 40.25843 17.213484 503172.9\n",
       "3 3  1983 311   1842.0164  219366.26 46.10656 25.213116 398617.2\n",
       "4 4  1983 311   1595.0952  248018.90 27.52381 32.190475 243962.8\n",
       "5 5  1983 311   1800.4559  337150.60 49.19118 11.926471 716940.8\n",
       "6 6  1983 311    247.5758   67608.76 13.34343  9.747475 262221.7"
      ]
     },
     "metadata": {},
     "output_type": "display_data"
    },
    {
     "data": {
      "text/plain": [
       "       am              y            ciiu3         publicidad      \n",
       " Min.   :1.000   Min.   :1983   Min.   :311.0   Min.   :     0.0  \n",
       " 1st Qu.:3.000   1st Qu.:1984   1st Qu.:323.0   1st Qu.:   176.2  \n",
       " Median :5.000   Median :1985   Median :352.0   Median :   666.7  \n",
       " Mean   :4.874   Mean   :1985   Mean   :349.1   Mean   :  7198.6  \n",
       " 3rd Qu.:7.000   3rd Qu.:1986   3rd Qu.:371.0   3rd Qu.:  2726.3  \n",
       " Max.   :9.000   Max.   :1987   Max.   :390.0   Max.   :463197.0  \n",
       "     ventas            hombres           mujeres              kw           \n",
       " Min.   :    2084   Min.   :   3.00   Min.   :  0.000   Min.   :        0  \n",
       " 1st Qu.:   57021   1st Qu.:  22.98   1st Qu.:  6.093   1st Qu.:   102900  \n",
       " Median :  190851   Median :  40.00   Median : 12.828   Median :   331592  \n",
       " Mean   :  777620   Mean   :  76.09   Mean   : 22.191   Mean   :  2427760  \n",
       " 3rd Qu.:  537191   3rd Qu.:  79.06   3rd Qu.: 25.552   3rd Qu.:   983487  \n",
       " Max.   :59611209   Max.   :1139.25   Max.   :331.000   Max.   :144228238  "
      ]
     },
     "metadata": {},
     "output_type": "display_data"
    },
    {
     "name": "stdout",
     "output_type": "stream",
     "text": [
      "Classes 'spec_tbl_df', 'tbl_df', 'tbl' and 'data.frame':\t1132 obs. of  8 variables:\n",
      " $ am        : num  1 2 3 4 5 6 7 8 9 1 ...\n",
      " $ y         : num  1983 1983 1983 1983 1983 ...\n",
      " $ ciiu3     : num  311 311 311 311 311 311 311 311 311 312 ...\n",
      " $ publicidad: num  3789 5966 1842 1595 1800 ...\n",
      " $ ventas    : num  223935 249858 219366 248019 337151 ...\n",
      " $ hombres   : num  39.4 40.3 46.1 27.5 49.2 ...\n",
      " $ mujeres   : num  19.8 17.2 25.2 32.2 11.9 ...\n",
      " $ kw        : num  425239 503173 398617 243963 716941 ...\n",
      " - attr(*, \"spec\")=\n",
      "  .. cols(\n",
      "  ..   am = col_double(),\n",
      "  ..   y = col_double(),\n",
      "  ..   ciiu3 = col_double(),\n",
      "  ..   publicidad = col_double(),\n",
      "  ..   ventas = col_double(),\n",
      "  ..   hombres = col_double(),\n",
      "  ..   mujeres = col_double(),\n",
      "  ..   kw = col_double()\n",
      "  .. )\n"
     ]
    }
   ],
   "source": [
    "if (!require(\"readr\")) {\n",
    "  install.packages(\"readr\")\n",
    "}\n",
    "library(readr)\n",
    "\n",
    "# Cargar el archivo CSV\n",
    "data <- read_csv(\"publicidadVentas.csv\")\n",
    "\n",
    "# Visualizar las primeras filas de los datos\n",
    "head(data)\n",
    "\n",
    "# Resumen estadístico de las variables numéricas\n",
    "summary(data)\n",
    "\n",
    "# Si necesitas más información sobre las columnas específicas, por ejemplo, si quieres conocer los tipos de datos,\n",
    "# puedes usar la función str(data)\n",
    "str(data)"
   ]
  },
  {
   "cell_type": "markdown",
   "metadata": {},
   "source": [
    "Voy a hacer una gráfca simple en R usando el paquete de shiny"
   ]
  },
  {
   "cell_type": "code",
   "execution_count": 16,
   "metadata": {
    "vscode": {
     "languageId": "r"
    }
   },
   "outputs": [
    {
     "name": "stderr",
     "output_type": "stream",
     "text": [
      "Loading required package: shiny\n",
      "Warning message in library(package, lib.loc = lib.loc, character.only = TRUE, logical.return = TRUE, :\n",
      "\"there is no package called 'shiny'\"also installing the dependencies 'fs', 'rappdirs', 'Rcpp', 'magrittr', 'memoise', 'sass', 'cli', 'httpuv', 'mime', 'fontawesome', 'htmltools', 'sourcetools', 'later', 'promises', 'rlang', 'fastmap', 'commonmark', 'glue', 'bslib', 'cachem', 'lifecycle'\n",
      "\n",
      "Warning message:\n",
      "\"unable to access index for repository https://cran.r-project.org/bin/windows/contrib/3.6:\n",
      "  no fue posible abrir la URL 'https://cran.r-project.org/bin/windows/contrib/3.6/PACKAGES'\"Packages which are only available in source form, and may need\n",
      "  compilation of C/C++/Fortran: 'fs' 'rappdirs' 'Rcpp' 'magrittr'\n",
      "  'sass' 'cli' 'httpuv' 'mime' 'htmltools' 'sourcetools' 'later'\n",
      "  'promises' 'rlang' 'fastmap' 'commonmark' 'glue' 'cachem'\n"
     ]
    },
    {
     "name": "stdout",
     "output_type": "stream",
     "text": [
      "  These will not be installed\n"
     ]
    },
    {
     "name": "stderr",
     "output_type": "stream",
     "text": [
      "installing the source packages 'memoise', 'fontawesome', 'bslib', 'lifecycle', 'shiny'\n",
      "\n",
      "Warning message in install.packages(\"shiny\"):\n",
      "\"installation of package 'memoise' had non-zero exit status\"Warning message in install.packages(\"shiny\"):\n",
      "\"installation of package 'fontawesome' had non-zero exit status\"Warning message in install.packages(\"shiny\"):\n",
      "\"installation of package 'lifecycle' had non-zero exit status\"Warning message in install.packages(\"shiny\"):\n",
      "\"installation of package 'bslib' had non-zero exit status\"Warning message in install.packages(\"shiny\"):\n",
      "\"installation of package 'shiny' had non-zero exit status\"Loading required package: ggplot2\n",
      "Warning message in library(package, lib.loc = lib.loc, character.only = TRUE, logical.return = TRUE, :\n",
      "\"there is no package called 'ggplot2'\"Warning message:\n",
      "\"dependencies 'MASS', 'lattice' are not available\"also installing the dependencies 'colorspace', 'cli', 'nlme', 'Matrix', 'farver', 'munsell', 'glue', 'gtable', 'isoband', 'lifecycle', 'mgcv', 'rlang', 'scales', 'vctrs'\n",
      "\n",
      "Warning message:\n",
      "\"unable to access index for repository https://cran.r-project.org/bin/windows/contrib/3.6:\n",
      "  no fue posible abrir la URL 'https://cran.r-project.org/bin/windows/contrib/3.6/PACKAGES'\"Packages which are only available in source form, and may need\n",
      "  compilation of C/C++/Fortran: 'colorspace' 'cli' 'nlme' 'Matrix'\n",
      "  'farver' 'glue' 'isoband' 'mgcv' 'rlang' 'scales' 'vctrs'\n"
     ]
    },
    {
     "name": "stdout",
     "output_type": "stream",
     "text": [
      "  These will not be installed\n"
     ]
    },
    {
     "name": "stderr",
     "output_type": "stream",
     "text": [
      "installing the source packages 'munsell', 'gtable', 'lifecycle', 'ggplot2'\n",
      "\n",
      "Warning message in install.packages(\"ggplot2\"):\n",
      "\"installation of package 'munsell' had non-zero exit status\"Warning message in install.packages(\"ggplot2\"):\n",
      "\"installation of package 'lifecycle' had non-zero exit status\"Warning message in install.packages(\"ggplot2\"):\n",
      "\"installation of package 'gtable' had non-zero exit status\"Warning message in install.packages(\"ggplot2\"):\n",
      "\"installation of package 'ggplot2' had non-zero exit status\""
     ]
    },
    {
     "ename": "ERROR",
     "evalue": "Error in library(shiny): there is no package called 'shiny'\n",
     "output_type": "error",
     "traceback": [
      "Error in library(shiny): there is no package called 'shiny'\nTraceback:\n",
      "1. library(shiny)"
     ]
    }
   ],
   "source": [
    "# Instalé shiny y ggplot2\n",
    "if (!require(\"shiny\")) {\n",
    "  install.packages(\"shiny\")\n",
    "}\n",
    "if (!require(\"ggplot2\")) {\n",
    "  install.packages(\"ggplot2\")\n",
    "}\n",
    "library(shiny)\n",
    "library(ggplot2)\n",
    "\n",
    "# Interfaz\n",
    "ui <- fluidPage(\n",
    "  titlePanel(\"Gráfico por año\"),\n",
    "  sidebarLayout(\n",
    "    sidebarPanel(\n",
    "      # opciones de input\n",
    "      selectInput(\"variable\", \"Selecciona una variable:\",\n",
    "                  choices = c(\"publicidad\", \"ventas\", \"kw\"))\n",
    "    ),\n",
    "    mainPanel(\n",
    "      plotOutput(\"plot\")\n",
    "    )\n",
    "  )\n",
    ")\n",
    "\n",
    "# Función de un server en la app de Shiny\n",
    "server <- function(input, output) {\n",
    "  output$plot <- renderPlot({\n",
    "\n",
    "    #PLOT\n",
    "    ggplot(data, aes_string(x = \"y\", y = input$variable)) +\n",
    "      geom_bar(stat = \"summary\", fun = sum, fill = \"blue\") +\n",
    "      labs(x = \"Año\", y = input$variable)\n",
    "  })\n",
    "}\n",
    "\n",
    "# Crea la aplicación Shiny\n",
    "shinyApp(ui = ui, server = server)\n"
   ]
  },
  {
   "cell_type": "code",
   "execution_count": null,
   "metadata": {},
   "outputs": [],
   "source": []
  }
 ],
 "metadata": {
  "kernelspec": {
   "display_name": "Python 3 (ipykernel)",
   "language": "python",
   "name": "python3"
  },
  "language_info": {
   "codemirror_mode": {
    "name": "ipython",
    "version": 3
   },
   "file_extension": ".py",
   "mimetype": "text/x-python",
   "name": "python",
   "nbconvert_exporter": "python",
   "pygments_lexer": "ipython3",
   "version": "3.7.1"
  }
 },
 "nbformat": 4,
 "nbformat_minor": 4
}
